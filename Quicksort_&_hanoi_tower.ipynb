{
  "nbformat": 4,
  "nbformat_minor": 0,
  "metadata": {
    "colab": {
      "name": "Quicksort & hanoi tower.ipynb",
      "version": "0.3.2",
      "provenance": [],
      "collapsed_sections": []
    },
    "kernelspec": {
      "name": "python3",
      "display_name": "Python 3"
    },
    "accelerator": "GPU"
  },
  "cells": [
    {
      "metadata": {
        "id": "8aFoIFMITLCL",
        "colab_type": "text"
      },
      "cell_type": "markdown",
      "source": [
        "# **Algoritmos de Recursão**\n",
        "\n",
        "Este notebook tem como objetivo esclarecer, analisar, implementar e praticar algoritmos de uso recursivo, estando entre eles o método de ordenação Quicksort e o famoso jogo estratégico da Torre de Hanói"
      ]
    },
    {
      "metadata": {
        "id": "a-Es5E8pXITQ",
        "colab_type": "text"
      },
      "cell_type": "markdown",
      "source": [
        "## *Quicksort*"
      ]
    },
    {
      "metadata": {
        "id": "19utPCKLYM2Q",
        "colab_type": "text"
      },
      "cell_type": "markdown",
      "source": [
        "O Quicksort é um dos algoritmos de ordenação mais famosos e largamente utilizado em projetos de linguagem de programação. Ele utiliza do paradigma de programação Dividir para Conquistar, que é uma abordagem recursiva que visa ramificar a entrada do algoritmo múltiplas vezes a fim de quebrar o problema maior em problemas menores. Ele consiste em três etapas.\n",
        "\n",
        "1.  ** Escolha do Pivô:** \n",
        "2.   **Particionamento**\n",
        "3.   **Recursão**\n",
        "\n",
        "\n"
      ]
    },
    {
      "metadata": {
        "id": "KEOXJJAOVE4X",
        "colab_type": "text"
      },
      "cell_type": "markdown",
      "source": [
        "### **Descrição**"
      ]
    },
    {
      "metadata": {
        "id": "Dw7a2FJPPSUz",
        "colab_type": "text"
      },
      "cell_type": "markdown",
      "source": [
        "Primeiramente escolhe-se um elemento qualquer da lista, denominado **Pivot** (pivô em português). Em seguida, na etapa de particionamento, a lista é dividida em duas sub-listas, os números maiores que o pivô e os números menores que o pivô. Note que este último já estará sempre em sua posição final. E por fim, é feita recursivamente esta ideia para cada sub-lista até que a lista principal fique totalmente ordenada. A figura abaixa ilustra como é feito o processo.\n",
        " \n",
        " ![alt text](https://i2.wp.com/www.techiedelight.com/wp-content/uploads/Quicksort.png?zoom=2.625&w=1100&ssl=1)\n",
        " \n",
        " No exemplo acima foi utilizado como estratégia de escolha do pivô sempre o último elemento da lista, neste caso específico, o número 3. Assim, teremos duas listas, as dos números menores ou iguais a 3 (lista da esquerda), e a dos números maiores ou iguais a 3 (lista da esquerda). E para cada sub-lista a mesma ideia recursiva é aplicada."
      ]
    },
    {
      "metadata": {
        "id": "spFvhDDGljK2",
        "colab_type": "text"
      },
      "cell_type": "markdown",
      "source": [
        "###**Funcionamento da ordenação Quick Sort**"
      ]
    },
    {
      "metadata": {
        "id": "O-P2J3HYmD0T",
        "colab_type": "text"
      },
      "cell_type": "markdown",
      "source": [
        "  Como sabemos que o algoritmo de ordenação Quick Sort utiliza um pivô como base para a ordenação vamos entender o processo de ordenar do menor para o maior.\n",
        "  \n",
        "  Vamos utilizar o exemplo abaixo:\n",
        "  \n",
        "  \n",
        " ![alt text](https://upload.wikimedia.org/wikipedia/commons/9/9c/Quicksort-example.gif)\n",
        "\n",
        "No vetor \n",
        "\n",
        "**[6, 5, 3, 1, 8, 7, 2, 4] **\n",
        "\n",
        "Vamos escolher um pivô para podermos começar a ordenação.\n",
        "\n",
        "O pivô pode ser qualquer elemento. Vamos então escolher o ultimo elemento do vetor, que no caso é o numero **4**.\n",
        "\n",
        "Agora vamos ter um iterador *i* no começo do vetor e um iterador *j* no final do vetor, e assim teremos algumas regras basicas para podermos ordena-lo:\n",
        "\n",
        "  \n",
        "\n",
        "*   Se o elemento na posição *i* for menor que o pivô, então incremente 1 ao *i* , senão o i deve permanecer na posição que está.\n",
        "\n",
        "*  Se o elemento na posição *j* for maior que o pivô, então decremente 1 ao *j* , senão o j deve permanecer na posição que está.\n",
        "\n",
        "* Se o iterador *i* não for incrementado e o iterador *j* não for decrementado, troque o elemento na posição i pelo elemento na posição j, ou seja, se o i e o j estiverem \"parados\" troque seus elementos de posição.\n",
        "\n",
        "* Se os elementos forem trocados, após isso, incremente 1 ao *i* e decremente 1 ao *j*.\n",
        "\n",
        "E dessa maneira serão realizadas essas verificações enquanto *i* <= *j*, ou seja, quando um iterador ultrapassar o outro é necessario parar.\n",
        "\n",
        "E quando paramos dividimos o vetor em duas partes:\n",
        "\n",
        "  * Do incio do vetor até o *j*.\n",
        "  * E do *i* até o final do vetor.\n",
        "\n",
        "Após isso chamamos recursivamente cada parte do vetor.\n",
        "\n",
        "E assim, continuamos com essa lógica ate que todo o vetor esteja ordenado. \n",
        "\n",
        "\n",
        "\n",
        "-> se formos aplicar essa idéia ao exemplo acima, utilizando o numero **4** como **pivô**, na primeira chamada da função o vetor ficaria dessa forma:\n",
        "\n",
        "**[ 4, 2, 3, 1, 8, 7, 5, 6]**\n",
        "\n",
        "após isso seria realizada uma chamada  de função recursiva para os vetores **[4, 2, 3, 1]**\n",
        "e **[8, 7, 5, 6]**.\n",
        "\n",
        "E assim por diante."
      ]
    },
    {
      "metadata": {
        "id": "Jiy-B0BL5wvW",
        "colab_type": "text"
      },
      "cell_type": "markdown",
      "source": [
        "### **Implementação em python**"
      ]
    },
    {
      "metadata": {
        "id": "UpGTDa7k7fuy",
        "colab_type": "code",
        "outputId": "c5ce10e9-26dd-4164-b23b-bf1c496e5ee4",
        "colab": {
          "base_uri": "https://localhost:8080/",
          "height": 34
        }
      },
      "cell_type": "code",
      "source": [
        "def quicksort(x):\n",
        "    if len(x) == 1 or len(x) == 0:\n",
        "        return x\n",
        "    else:\n",
        "        pivot = x[0]\n",
        "        i = 0\n",
        "        for j in range(len(x)-1):\n",
        "            if x[j+1] < pivot:\n",
        "                x[j+1],x[i+1] = x[i+1], x[j+1]\n",
        "                i += 1\n",
        "        x[0],x[i] = x[i],x[0]\n",
        "        first_part = quicksort(x[:i])\n",
        "        second_part = quicksort(x[i+1:])\n",
        "        first_part.append(x[i])\n",
        "        return first_part + second_part\n",
        "\n",
        "alist = [54,26,93,17,77,31,44,55,99]\n",
        "print(quicksort(alist))\n",
        "    "
      ],
      "execution_count": 0,
      "outputs": [
        {
          "output_type": "stream",
          "text": [
            "[17, 26, 31, 44, 54, 55, 77, 93, 99]\n"
          ],
          "name": "stdout"
        }
      ]
    },
    {
      "metadata": {
        "id": "SoT8a5HFdyhp",
        "colab_type": "text"
      },
      "cell_type": "markdown",
      "source": [
        "### **Análise de Complexidade**"
      ]
    },
    {
      "metadata": {
        "id": "v9hxRjcXeB7P",
        "colab_type": "text"
      },
      "cell_type": "markdown",
      "source": [
        "Note que na etapa de particionamento o vetor é percorrido por completo. Logo, sua complexidade de tempo é na Ordem (n), onde n representa justamente o tamanho do vetor. Por exemplo, se o vetor tem 20 posições, será feito 20 iterações O(n). Como o particionamento é chamado recursivamente a fim de reduzir o problema em problemas menores,  essa recursão tem complexidade em O (log n). Concluímos assim que no caso médio, o algoritmo de ordenação tem uma complexidade na Ordem (n log n). Ou seja, n vezes log n. \n",
        "\n",
        "O pior caso de particionamento é feito quando o vetor já está ordenado e o elemento pivô é o maior ou o menor elemento da lista. Acontecendo de cada etapa recursiva chamar listas de tamanhos igual a anterior subtraido de 1. Neste caso a complexidade é O (n²), ou seja, resulta em n² operações."
      ]
    },
    {
      "metadata": {
        "id": "1RqAwmRVzCfF",
        "colab_type": "text"
      },
      "cell_type": "markdown",
      "source": [
        "## *Torre de Hanoi*"
      ]
    },
    {
      "metadata": {
        "id": "ZvXZtBEkVvEQ",
        "colab_type": "text"
      },
      "cell_type": "markdown",
      "source": [
        "Torre de Hanói é um jogo que tem como base três pinos, em um dos quais são dispostos alguns discos uns sobre os outros, de maneira que o disco maior esteja sempre abaixo do disco menor.\n",
        "\n",
        "\n",
        "![alt text](https://cdn.kastatic.org/ka-perseus-images/5b5fb2670c9a185b2666637461e40c805fcc9ea5.png)\n",
        "\n",
        "\n",
        "O problema consiste em passar todos os discos de um pino para outro qualquer, usando um dos pinos como auxiliar, de maneira que um disco maior nunca fique em cima de outro menor em nenhuma situação. O número de discos pode variar sendo que o mais simples contém apenas três.\n",
        "\n",
        "\n",
        "![alt text](https://upload.wikimedia.org/wikipedia/commons/6/60/Tower_of_Hanoi_4.gif)\n",
        "\n",
        "Para compreender melhor, tente você mesmo resolver esse desafio! [Torre de Hanoi](https://www.gameson.com.br/Jogos-Online/ClassicoPuzzle/Torre-de-Hanoi.html)"
      ]
    },
    {
      "metadata": {
        "id": "eaSkVQF88qrR",
        "colab_type": "text"
      },
      "cell_type": "markdown",
      "source": [
        "### Algoritmo de Solução - Recursivo\n"
      ]
    },
    {
      "metadata": {
        "id": "jTwXe2Q7BIXD",
        "colab_type": "code",
        "outputId": "a47a624d-9fbe-4d6f-e6ab-c9abfa1f4ff8",
        "colab": {
          "base_uri": "https://localhost:8080/",
          "height": 153
        }
      },
      "cell_type": "code",
      "source": [
        "\n",
        "def moveTower(n,A, B, C):\n",
        "  if n >= 1:\n",
        "    moveTower(n-1,A,C,B)\n",
        "    moveDisk(n, A,B)\n",
        "    moveTower(n-1,C,B,A)\n",
        "\n",
        "def moveDisk(n, fp,tp):\n",
        "    print(\"moving disk \",n,\" from\",fp,\"to\",tp)\n",
        "\n",
        "k =  int(input(\"Digite a quantidade de discos: \"))    \n",
        "moveTower(k,\"A\",\"B\",\"C\")\n"
      ],
      "execution_count": 0,
      "outputs": [
        {
          "output_type": "stream",
          "text": [
            "Digite a quantidade de discos: 3\n",
            "moving disk  1  from A to B\n",
            "moving disk  2  from A to C\n",
            "moving disk  1  from B to C\n",
            "moving disk  3  from A to B\n",
            "moving disk  1  from C to A\n",
            "moving disk  2  from C to B\n",
            "moving disk  1  from A to B\n"
          ],
          "name": "stdout"
        }
      ]
    },
    {
      "metadata": {
        "id": "XpSm_fEjWk9P",
        "colab_type": "text"
      },
      "cell_type": "markdown",
      "source": [
        "### Análise de Complexidade"
      ]
    },
    {
      "metadata": {
        "id": "kGBO-8uEW18v",
        "colab_type": "text"
      },
      "cell_type": "markdown",
      "source": [
        "Para solucionar um Hanói de 4 discos, são necessários 15 movimentos\n",
        "\n",
        "Para solucionar um Hanói de 7 discos, são necessários 127 movimentos\n",
        "\n",
        "Para solucionar um Hanói de 15 discos, são necessários 32.767 movimentos\n",
        "\n",
        "Para solucionar um Hanói de 64 discos, como diz a lenda, são necessários 18.446.744.073.709.551.615 movimentos.\n",
        "\n",
        "Para mover o primeiro disco da torre original, 1 movimento é gasto. Para mover o segundo da torre original, sendo que o primeiro já foi movido e será construída uma torre com os 2 menores discos, são gastos 2 movimentos. Para deslocar o terceiro disco formando nova torre com os três menores discos, tendo a torre com os dois menores já formada, são gastos 4 movimentos.\n",
        "\n",
        "Assim se sucede com os próximos discos até que o enésimo disco (o último) seja deslocado compondo uma torre com os outros discos tendo uma torre com o penúltimo disco e os demais juntos já formada. A sucessão formada pela soma dos movimentos é uma sucessão (1,2,4,8...2^n).\n",
        "\n",
        "> Como temos uma progressão geométrica de razão 2 iniciando em 1, temos que a complexidade pode ser resumida em 2^n - 1.\n"
      ]
    },
    {
      "metadata": {
        "id": "MECFUPgxObeo",
        "colab_type": "text"
      },
      "cell_type": "markdown",
      "source": [
        "## Exercícios"
      ]
    },
    {
      "metadata": {
        "id": "amMRhvP8OfjY",
        "colab_type": "text"
      },
      "cell_type": "markdown",
      "source": [
        "1.Write a program that take an integer command-line argument n and prints all n! permutations of the n letters starting at a (assume that n is no greater than 26). A permutation of n elements is one of the n! possible orderings of the elements. As an example, when n = 3 you should get the following output (but do not worry about the order in which you enumerate them):\n",
        "\n",
        "---\n",
        "\n",
        "\n",
        "bca cba cab acb bac abc\n",
        "\n",
        "\n",
        "---\n",
        "\n"
      ]
    },
    {
      "metadata": {
        "id": "b1NZgpIJOvr6",
        "colab_type": "code",
        "colab": {}
      },
      "cell_type": "code",
      "source": [
        ""
      ],
      "execution_count": 0,
      "outputs": []
    },
    {
      "metadata": {
        "id": "1t0fTmNnOwQV",
        "colab_type": "text"
      },
      "cell_type": "markdown",
      "source": [
        "2.Write a program that take an integer command-line argument n and prints all n! permutations of the n letters starting at a (assume that n is no greater than 26). A permutation of n elements is one of the n! possible orderings of the elements. As an example, when n = 3 you should get the following output (but do not worry about the order in which you enumerate them):\n",
        "\n",
        "\n",
        "---\n",
        "\n",
        "\n",
        "bca cba cab acb bac abc\n",
        "\n",
        "\n",
        "---\n",
        "\n"
      ]
    },
    {
      "metadata": {
        "id": "EYw91ZX6POwp",
        "colab_type": "code",
        "colab": {}
      },
      "cell_type": "code",
      "source": [
        ""
      ],
      "execution_count": 0,
      "outputs": []
    },
    {
      "metadata": {
        "id": "IsrrTAvsPPTD",
        "colab_type": "text"
      },
      "cell_type": "markdown",
      "source": [
        "3.Write a program that two command-line arguments n and k, and prints out all P(n,k)=n! /(n−k)! permutations that contain exactly k of the n elements. Below is the desired output when k = 2 and n = 4 (again, do not worry about the order):\n",
        "\n",
        "---\n",
        "\n",
        "\n",
        "ab ac ad ba bc bd ca cb cd da db dc \n",
        "\n",
        "---\n",
        "\n"
      ]
    },
    {
      "metadata": {
        "id": "GntdlbNaR3f8",
        "colab_type": "code",
        "colab": {}
      },
      "cell_type": "code",
      "source": [
        ""
      ],
      "execution_count": 0,
      "outputs": []
    },
    {
      "metadata": {
        "id": "pg8SBxioR5aX",
        "colab_type": "text"
      },
      "cell_type": "markdown",
      "source": [
        "4.Write a program  that takes two command-line arguments n and k, and prints all C(n,k)=n!/k!(n−k)! combinations of size k. For example, when n = 5 and k = 3, you should get the following output:\n",
        "\n",
        "---\n",
        "\n",
        "\n",
        "abc abd abe acd ace ade bcd bce bde cde \n",
        "\n",
        "---\n",
        "\n",
        "\n"
      ]
    },
    {
      "metadata": {
        "id": "8JnpEK2LSn8A",
        "colab_type": "code",
        "colab": {}
      },
      "cell_type": "code",
      "source": [
        ""
      ],
      "execution_count": 0,
      "outputs": []
    }
  ]
}